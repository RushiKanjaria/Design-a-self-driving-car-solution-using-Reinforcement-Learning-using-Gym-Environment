{
  "nbformat": 4,
  "nbformat_minor": 0,
  "metadata": {
    "colab": {
      "name": "Self_Driving_Car_Rushi_Kanjaria_16062020.ipynb",
      "provenance": [],
      "collapsed_sections": [],
      "authorship_tag": "ABX9TyMhFZvwwye4EDi9fvC9EO9p",
      "include_colab_link": true
    },
    "kernelspec": {
      "name": "python3",
      "display_name": "Python 3"
    }
  },
  "cells": [
    {
      "cell_type": "markdown",
      "metadata": {
        "id": "view-in-github",
        "colab_type": "text"
      },
      "source": [
        "<a href=\"https://colab.research.google.com/github/RushiKanjaria/Design-a-self-driving-car-solution-using-Reinforcement-Learning-using-Gym-Environment/blob/master/Self_Driving_Car.ipynb\" target=\"_parent\"><img src=\"https://colab.research.google.com/assets/colab-badge.svg\" alt=\"Open In Colab\"/></a>"
      ]
    },
    {
      "cell_type": "markdown",
      "metadata": {
        "id": "oIOzmjhqAxmP",
        "colab_type": "text"
      },
      "source": [
        "#Design a self-driving car using Reinforcement Learning using Gym Environment\n"
      ]
    },
    {
      "cell_type": "markdown",
      "metadata": {
        "id": "3Sjui72ctAvs",
        "colab_type": "text"
      },
      "source": [
        "#Taxi-v3\n",
        "```\n",
        "+---------+\n",
        "|R: | : :G|\n",
        "| : | : : |\n",
        "| : : : : |\n",
        "| | : | : |\n",
        "|Y| : |B: |\n",
        "+---------+\n",
        "```\n",
        "\n",
        "####Description: \n",
        "There are four designated locations in the grid world indicated by R(ed), G(reen), Y(ellow), and B(lue). When the episode starts, the taxi starts off at a random square and the passenger is at a random location. The taxi drives to the passenger's location, picks up the passenger, drives to the passenger's destination (another one of the four specified locations), and then drops off the passenger. Once the passenger is dropped off, the episode ends.\n",
        "\n",
        "####Observations:\n",
        "There are 500 discrete states since there are 25 taxi positions, 5 possible locations of the passenger (including the case when the passenger is in the taxi), and 4 destination locations.\n",
        "\n",
        "####Passenger locations:\n",
        "- 0: R(ed)\n",
        "- 1: G(reen)\n",
        "- 2: Y(ellow)\n",
        "- 3: B(lue)\n",
        "- 4: in taxi\n",
        "\n",
        "####Destinations:\n",
        "- 0: R(ed)\n",
        "- 1: G(reen)\n",
        "- 2: Y(ellow)\n",
        "- 3: B(lue)\n",
        "\n",
        "####Actions:\n",
        "There are 6 discrete deterministic actions:\n",
        "- 0: move south\n",
        "- 1: move north\n",
        "- 2: move east \n",
        "- 3: move west \n",
        "- 4: pickup passenger\n",
        "- 5: dropoff passenger\n",
        "\n",
        "####Rewards:\n",
        "There is a reward of -1 for each action and an additional reward of +20 for delivering the passenger. There is a reward of -10 for executing actions \"pickup\" and \"dropoff\" illegally.\n",
        "\n",
        "####Rendering:\n",
        "- blue: passenger\n",
        "- magenta: destination\n",
        "- yellow: empty taxi\n",
        "- green: full taxi\n",
        "- other letters (R, G, Y and B): locations for passengers and destinations\n",
        "\n",
        "\n",
        "                           \n"
      ]
    },
    {
      "cell_type": "markdown",
      "metadata": {
        "id": "eGWXK6VKX0dx",
        "colab_type": "text"
      },
      "source": [
        "###NOTE:\n",
        "We have used google colab to impliment, train and test the self driving car. Google colab already contains the gym interface so you can skip step:0 and move on to step:1 if you are using google colab"
      ]
    },
    {
      "cell_type": "markdown",
      "metadata": {
        "id": "XX7M5QB0Xelz",
        "colab_type": "text"
      },
      "source": [
        "#Step:0 Installing the gym interface\n",
        "\n"
      ]
    },
    {
      "cell_type": "code",
      "metadata": {
        "id": "_dSHlI33Xv9F",
        "colab_type": "code",
        "colab": {}
      },
      "source": [
        "!pip install cmake 'gym[atari]' scipy"
      ],
      "execution_count": null,
      "outputs": []
    },
    {
      "cell_type": "markdown",
      "metadata": {
        "id": "jdv43MCoPRj7",
        "colab_type": "text"
      },
      "source": [
        "#Step:1 Import the Libraries\n",
        "First, We have to import some libraries, which will help us to create our agent."
      ]
    },
    {
      "cell_type": "code",
      "metadata": {
        "id": "GShlwZvVPAUc",
        "colab_type": "code",
        "colab": {}
      },
      "source": [
        "import numpy as np          #Numpy is for our Qtable\n",
        "import gym                  #OpenAI gym is for our environment, i.e., our Taxi Environment\n",
        "import random               #Random is for generating random numbers"
      ],
      "execution_count": 54,
      "outputs": []
    },
    {
      "cell_type": "markdown",
      "metadata": {
        "id": "TZTH8plLQpqy",
        "colab_type": "text"
      },
      "source": [
        "#Step:2 Create the Enviornment\n",
        " \n",
        "\n",
        "*   We will use OpenAI Gym library to create our environment.\n",
        "*   It is composed of many environments that we can use to train our agent.\n",
        "*   We will be creating the Taxi environment.\n",
        "\n",
        "\n",
        "\n"
      ]
    },
    {
      "cell_type": "code",
      "metadata": {
        "id": "T4rY2HVqQkEv",
        "colab_type": "code",
        "colab": {
          "base_uri": "https://localhost:8080/",
          "height": 159
        },
        "outputId": "4bfc80ea-49d7-47fe-8872-83f5d04d63a8"
      },
      "source": [
        "env = gym.make(\"Taxi-v3\")\n",
        "env.render()"
      ],
      "execution_count": 55,
      "outputs": [
        {
          "output_type": "stream",
          "text": [
            "+---------+\n",
            "|\u001b[35mR\u001b[0m: | : :G|\n",
            "| : | : :\u001b[43m \u001b[0m|\n",
            "| : : : : |\n",
            "| | : | : |\n",
            "|\u001b[34;1mY\u001b[0m| : |B: |\n",
            "+---------+\n",
            "\n"
          ],
          "name": "stdout"
        }
      ]
    },
    {
      "cell_type": "markdown",
      "metadata": {
        "id": "v4UTaClIYj4Y",
        "colab_type": "text"
      },
      "source": [
        "#Step:3 Initialize the Hyperparameters"
      ]
    },
    {
      "cell_type": "code",
      "metadata": {
        "id": "Ll-OJ802YyUU",
        "colab_type": "code",
        "colab": {}
      },
      "source": [
        "total_episodes = 50000          #Total episodes we will use to train our algorithm\n",
        "total_test_episodes = 100       #Number of episodes we will use to test our algorithm\n",
        "max_steps = 99                  #Maximum steps an agent can take during an episode\n",
        "\n",
        "learning_rate = 0.7             #Learning rate\n",
        "gamma = 0.6                     #Discount rate\n",
        "\n",
        "#Exploration Parameters\n",
        "epsilon = 1.0                   #Exploration rate\n",
        "max_epsilon = 1.0               #Exploration probability at start(Max value the epsilon can have)\n",
        "min_epsilon = 0.01              #Minimum exploration probability(min value the epsilon can have)\n",
        "decay_rate = 0.01               #Exponential decay rate for exploration probability"
      ],
      "execution_count": 56,
      "outputs": []
    },
    {
      "cell_type": "markdown",
      "metadata": {
        "id": "s_hcA2UCSfYy",
        "colab_type": "text"
      },
      "source": [
        "#Solving the enviornment without Reinforcement Learning"
      ]
    },
    {
      "cell_type": "code",
      "metadata": {
        "id": "k_Qra2wUQU3c",
        "colab_type": "code",
        "colab": {}
      },
      "source": [
        "env.reset()\n",
        "total_epochs = []\n",
        "total_penalties = []\n",
        "total_reward = []\n",
        "frames = []\n",
        "\n",
        "for episode in range(total_test_episodes):\n",
        "  state = env.reset()\n",
        "  step = 0\n",
        "  done = False\n",
        "  epochs, penalties, reward = 0,0,0\n",
        "\n",
        "  while not done:\n",
        "    #env.render()\n",
        "    action = env.action_space.sample()\n",
        "\n",
        "    new_state, reward, done, info = env.step(action)\n",
        "\n",
        "    if reward == -10:\n",
        "      penalties += 1\n",
        "\n",
        "    epochs += 1\n",
        "\n",
        "    total_reward.append(reward)\n",
        "\n",
        "    frames.append({'episode': episode, 'frames': env.render(mode='ansi'), 'state': state, 'action': action, 'reward': reward})\n",
        "\n",
        "    state = new_state\n",
        "  total_penalties.append(penalties)\n",
        "  total_epochs.append(epochs)"
      ],
      "execution_count": 57,
      "outputs": []
    },
    {
      "cell_type": "markdown",
      "metadata": {
        "id": "8QlaIVEgY7Ak",
        "colab_type": "text"
      },
      "source": [
        "#Visualizing the performance "
      ]
    },
    {
      "cell_type": "code",
      "metadata": {
        "id": "iAyUG9wwZC0H",
        "colab_type": "code",
        "colab": {
          "base_uri": "https://localhost:8080/",
          "height": 266
        },
        "outputId": "bc2354ab-6587-4799-cf33-3a09065bcbd7"
      },
      "source": [
        "from IPython.display import clear_output\n",
        "from time import sleep\n",
        "\n",
        "def print_frames(frames):\n",
        "    for i, frame in enumerate(frames):\n",
        "        clear_output(wait=True)\n",
        "        \n",
        "        if i == 100:\n",
        "          break\n",
        "\n",
        "        print(f\"Episode: {frame['episode']}\")\n",
        "        print(frame['frames'])\n",
        "        print(f\"Timestep: {i + 1}\")\n",
        "        print(f\"State: {frame['state']}\")\n",
        "        print(f\"Action: {frame['action']}\")\n",
        "        print(f\"Reward: {frame['reward']}\")\n",
        "        sleep(.6)\n",
        "        \n",
        "        \n",
        "        \n",
        "print_frames(frames)"
      ],
      "execution_count": 61,
      "outputs": [
        {
          "output_type": "stream",
          "text": [
            "Episode: 0\n",
            "+---------+\n",
            "|\u001b[35m\u001b[43mR\u001b[0m\u001b[0m: | : :\u001b[34;1mG\u001b[0m|\n",
            "| : | : : |\n",
            "| : : : : |\n",
            "| | : | : |\n",
            "|Y| : |B: |\n",
            "+---------+\n",
            "  (Pickup)\n",
            "\n",
            "Timestep: 100\n",
            "State: 4\n",
            "Action: 4\n",
            "Reward: -10\n"
          ],
          "name": "stdout"
        }
      ]
    },
    {
      "cell_type": "code",
      "metadata": {
        "id": "AYvcqwdHR4TF",
        "colab_type": "code",
        "colab": {
          "base_uri": "https://localhost:8080/",
          "height": 88
        },
        "outputId": "cbe053cf-9e64-4b8c-ba53-fb8519d40480"
      },
      "source": [
        "print(f\"Results after {total_test_episodes} episodes:\")\n",
        "print(f\"Average timesteps per episode: {sum(total_epochs)/ total_test_episodes}\")\n",
        "print(f\"Average reward per timesteps: {sum(total_reward) / sum(total_epochs)}\")\n",
        "print(f\"Average penalties per episode: {sum(total_penalties) / total_test_episodes}\")"
      ],
      "execution_count": 62,
      "outputs": [
        {
          "output_type": "stream",
          "text": [
            "Results after 100 episodes:\n",
            "Average timesteps per episode: 198.85\n",
            "Average reward per timesteps: -3.9102338446064873\n",
            "Average penalties per episode: 64.37\n"
          ],
          "name": "stdout"
        }
      ]
    },
    {
      "cell_type": "code",
      "metadata": {
        "id": "4cDrjqxoS4wV",
        "colab_type": "code",
        "colab": {}
      },
      "source": [
        "avg_ts_nrl = sum(total_epochs)/ total_test_episodes\n",
        "avg_reward_nrl = sum(total_reward) / sum(total_epochs)\n",
        "avg_penalties_nrl = sum(total_penalties) / total_test_episodes"
      ],
      "execution_count": 63,
      "outputs": []
    },
    {
      "cell_type": "markdown",
      "metadata": {
        "id": "5DJvnctXSob2",
        "colab_type": "text"
      },
      "source": [
        "#Solving the environment with Reinforcement Learning"
      ]
    },
    {
      "cell_type": "markdown",
      "metadata": {
        "id": "XdBSZx2MR3rB",
        "colab_type": "text"
      },
      "source": [
        "#Step:4 Create the Q-Table\n",
        "*  To create our Qtable, we need to know how rows and columns we need, i.e., our states and actions. We have to calculate the action_size and state_size.\n",
        "*  OpenAI Gym has a way to do that."
      ]
    },
    {
      "cell_type": "code",
      "metadata": {
        "id": "5Lk3ftXTViG4",
        "colab_type": "code",
        "colab": {
          "base_uri": "https://localhost:8080/",
          "height": 52
        },
        "outputId": "f9ced4f4-b151-4def-98c3-32a97c06c5d0"
      },
      "source": [
        "action_size = env.action_space.n        #returns how much actions our environment has\n",
        "print(\"Action Size = \", action_size)\n",
        "\n",
        "state_size = env.observation_space.n    #returns how much sate our environment has\n",
        "print(\"State Size = \", state_size)"
      ],
      "execution_count": 64,
      "outputs": [
        {
          "output_type": "stream",
          "text": [
            "Action Size =  6\n",
            "State Size =  500\n"
          ],
          "name": "stdout"
        }
      ]
    },
    {
      "cell_type": "code",
      "metadata": {
        "id": "6SpqRuGdWBmR",
        "colab_type": "code",
        "colab": {
          "base_uri": "https://localhost:8080/",
          "height": 141
        },
        "outputId": "a5c340c2-e453-47c5-d762-06a79ae2692e"
      },
      "source": [
        "qtable = np.zeros((state_size,action_size))     #Initializing our Qtable as a null matrix\n",
        "print(qtable)"
      ],
      "execution_count": 65,
      "outputs": [
        {
          "output_type": "stream",
          "text": [
            "[[0. 0. 0. 0. 0. 0.]\n",
            " [0. 0. 0. 0. 0. 0.]\n",
            " [0. 0. 0. 0. 0. 0.]\n",
            " ...\n",
            " [0. 0. 0. 0. 0. 0.]\n",
            " [0. 0. 0. 0. 0. 0.]\n",
            " [0. 0. 0. 0. 0. 0.]]\n"
          ],
          "name": "stdout"
        }
      ]
    },
    {
      "cell_type": "markdown",
      "metadata": {
        "id": "Wha4gllHa2dD",
        "colab_type": "text"
      },
      "source": [
        "#Step:5 Implement the Q learning algorithm\n",
        " **Q(s,a) ← Q(s,a) + α * [r + γ * maxa'Q(s',a') - Q(s,a)]**\n",
        "\n",
        "*  α - Learning Rate\n",
        "*  γ - Discout Rate\n",
        "\n",
        "Breaking it down into steps, we get\n",
        "\n",
        "*   Start exploring actions: For each state, select any one among all possible actions for the current state (s).\n",
        "*   Travel to the next state (s') as a result of that action (a).\n",
        "*   For all possible actions from the state (s') select the one with the highest Q-value.\n",
        "*   Update Q-table values using the equation.\n",
        "*   Set the next state as the current state.\n",
        "*   If goal state is reached, then end and repeat the process.\n",
        "\n",
        "\n",
        "\n",
        "\n",
        "\n",
        "\n"
      ]
    },
    {
      "cell_type": "code",
      "metadata": {
        "id": "_wFHBqBNa8DX",
        "colab_type": "code",
        "colab": {}
      },
      "source": [
        "for episode in range(total_episodes):\n",
        "  #reset the environment\n",
        "  state = env.reset()\n",
        "  step = 0\n",
        "  done = False\n",
        "\n",
        "  for step in range(max_steps):\n",
        "    #choose an action a in the current state\n",
        "    #we first randomize a number\n",
        "    exp_exp_tradeoff = random.uniform(0,1)\n",
        "\n",
        "    #If this number is greater than epsilon, then we are in situation of exploitation (taking the biggest Q value for this state)\n",
        "    if exp_exp_tradeoff > epsilon:\n",
        "      action = np.argmax(qtable[state,:])\n",
        "\n",
        "    #else we will do a random choice, i.e., exploration\n",
        "    else:\n",
        "      action = env.action_space.sample()\n",
        "\n",
        "    #Now we are taking the action(a) and moving to the state(s') and getting the reward(r)\n",
        "    new_state, reward, done, info = env.step(action)\n",
        "\n",
        "    #We update our Qtable using the Qlearning equation\n",
        "    qtable[state,action] = qtable[state,action] + learning_rate * (reward + gamma * (np.max(qtable[new_state, :])) - qtable[state,action])\n",
        "\n",
        "    #Updating our state\n",
        "    state = new_state\n",
        "\n",
        "    #if done, then finish the episode\n",
        "    if done == True:\n",
        "      break\n",
        "    \n",
        "  #We reduce the epsilon (as we need less exploration)\n",
        "  epsilon = min_epsilon + (max_epsilon - min_epsilon) * np.exp(-decay_rate*episode)\n",
        "\n"
      ],
      "execution_count": 66,
      "outputs": []
    },
    {
      "cell_type": "markdown",
      "metadata": {
        "id": "pJhPmqk3jveN",
        "colab_type": "text"
      },
      "source": [
        "#Evaluate our agent\n",
        "\n",
        "*   After 50,000 episodes, The training is finished and the updated Qtable has been genrated using Qlearning\n",
        "*   This Qtable will help our agent to take right action at any state to maximize the reward\n",
        "*  Now the next action is always selected using the best Qvalue\n",
        "\n"
      ]
    },
    {
      "cell_type": "code",
      "metadata": {
        "id": "Lf1zqfl4lLxl",
        "colab_type": "code",
        "colab": {}
      },
      "source": [
        "env.reset()\n",
        "total_epochs = []\n",
        "total_penalties = []\n",
        "total_reward = []\n",
        "frames = []\n",
        "\n",
        "for episode in range(total_test_episodes):\n",
        "  state = env.reset()\n",
        "  step = 0\n",
        "  done = False\n",
        "  epochs, penalties, reward = 0,0,0\n",
        "\n",
        "  while not done:\n",
        "    #env.render()\n",
        "    action = np.argmax(qtable[state,:])\n",
        "\n",
        "    new_state, reward, done, info = env.step(action)\n",
        "\n",
        "    if reward == -10:\n",
        "      penalties += 1\n",
        "\n",
        "    epochs += 1\n",
        "\n",
        "    total_reward.append(reward)\n",
        "\n",
        "    frames.append({'episode': episode, 'frames': env.render(mode='ansi'), 'state': state, 'action': action, 'reward': reward})\n",
        "\n",
        "    state = new_state\n",
        "  total_penalties.append(penalties)\n",
        "  total_epochs.append(epochs)"
      ],
      "execution_count": 67,
      "outputs": []
    },
    {
      "cell_type": "markdown",
      "metadata": {
        "id": "dDRZzu-pZGDc",
        "colab_type": "text"
      },
      "source": [
        "#Visualizing the performance"
      ]
    },
    {
      "cell_type": "code",
      "metadata": {
        "id": "AymNI4W9D9dT",
        "colab_type": "code",
        "colab": {
          "base_uri": "https://localhost:8080/",
          "height": 266
        },
        "outputId": "8299aca1-a08c-4f62-ec70-f1f1a3f1bbfb"
      },
      "source": [
        "from IPython.display import clear_output\n",
        "from time import sleep\n",
        "\n",
        "def print_frames(frames):\n",
        "    for i, frame in enumerate(frames):\n",
        "        clear_output(wait=True)\n",
        "        \n",
        "        if frame['episode'] == 10:\n",
        "          break\n",
        "\n",
        "        print(f\"Episode: {frame['episode']}\")\n",
        "        print(frame['frames'])\n",
        "        print(f\"Timestep: {i + 1}\")\n",
        "        print(f\"State: {frame['state']}\")\n",
        "        print(f\"Action: {frame['action']}\")\n",
        "        print(f\"Reward: {frame['reward']}\")\n",
        "        sleep(.6)\n",
        "        \n",
        "        \n",
        "        \n",
        "print_frames(frames)"
      ],
      "execution_count": 68,
      "outputs": [
        {
          "output_type": "stream",
          "text": [
            "Episode: 9\n",
            "+---------+\n",
            "|R: | : :\u001b[35m\u001b[34;1m\u001b[43mG\u001b[0m\u001b[0m\u001b[0m|\n",
            "| : | : : |\n",
            "| : : : : |\n",
            "| | : | : |\n",
            "|Y| : |B: |\n",
            "+---------+\n",
            "  (Dropoff)\n",
            "\n",
            "Timestep: 128\n",
            "State: 97\n",
            "Action: 5\n",
            "Reward: 20\n"
          ],
          "name": "stdout"
        }
      ]
    },
    {
      "cell_type": "code",
      "metadata": {
        "id": "3nHhJQnzqYXO",
        "colab_type": "code",
        "colab": {
          "base_uri": "https://localhost:8080/",
          "height": 88
        },
        "outputId": "510ef4b9-52d1-4276-fc25-9a7a9670c0da"
      },
      "source": [
        "print(f\"Results after {total_test_episodes} episodes:\")\n",
        "print(f\"Average timesteps per episode: {sum(total_epochs)/ total_test_episodes}\")\n",
        "print(f\"Average reward per timestep: {sum(total_reward) / sum(total_epochs)}\")\n",
        "print(f\"Average penalties per episode: {sum(total_penalties) / total_test_episodes}\")"
      ],
      "execution_count": 69,
      "outputs": [
        {
          "output_type": "stream",
          "text": [
            "Results after 100 episodes:\n",
            "Average timesteps per episode: 12.57\n",
            "Average reward per timestep: 0.6706443914081146\n",
            "Average penalties per episode: 0.0\n"
          ],
          "name": "stdout"
        }
      ]
    },
    {
      "cell_type": "code",
      "metadata": {
        "id": "32pLfC7yT3f1",
        "colab_type": "code",
        "colab": {}
      },
      "source": [
        "avg_ts_rl = sum(total_epochs)/ total_test_episodes\n",
        "avg_reward_rl = sum(total_reward) / sum(total_epochs)\n",
        "avg_penalties_rl = sum(total_penalties) / total_test_episodes"
      ],
      "execution_count": 70,
      "outputs": []
    },
    {
      "cell_type": "code",
      "metadata": {
        "id": "bFozWi23VDvS",
        "colab_type": "code",
        "colab": {}
      },
      "source": [
        "import pandas as pd\n",
        "import seaborn as sns\n",
        "import matplotlib.pyplot as plt "
      ],
      "execution_count": 71,
      "outputs": []
    },
    {
      "cell_type": "code",
      "metadata": {
        "id": "6QMWQVpSURmJ",
        "colab_type": "code",
        "colab": {}
      },
      "source": [
        "models = [(\"Random agent's performance\", avg_reward_nrl, avg_penalties_nrl, avg_ts_nrl),(\"Q-learning agent's performance\", avg_reward_rl, avg_penalties_rl, avg_ts_rl)]"
      ],
      "execution_count": 72,
      "outputs": []
    },
    {
      "cell_type": "code",
      "metadata": {
        "id": "jpnT25-LUsLt",
        "colab_type": "code",
        "colab": {}
      },
      "source": [
        "Algorithms = pd.DataFrame(data = models, columns=['Model', \"Average rewards per move\", \"Average number of penalties per episode\", \"Average number of timesteps per trip\"])"
      ],
      "execution_count": 73,
      "outputs": []
    },
    {
      "cell_type": "code",
      "metadata": {
        "id": "-uLmmoHrVHcQ",
        "colab_type": "code",
        "colab": {
          "base_uri": "https://localhost:8080/",
          "height": 106
        },
        "outputId": "40a90db6-74d4-4e51-e216-80b00e71997b"
      },
      "source": [
        "Algorithms"
      ],
      "execution_count": 74,
      "outputs": [
        {
          "output_type": "execute_result",
          "data": {
            "text/html": [
              "<div>\n",
              "<style scoped>\n",
              "    .dataframe tbody tr th:only-of-type {\n",
              "        vertical-align: middle;\n",
              "    }\n",
              "\n",
              "    .dataframe tbody tr th {\n",
              "        vertical-align: top;\n",
              "    }\n",
              "\n",
              "    .dataframe thead th {\n",
              "        text-align: right;\n",
              "    }\n",
              "</style>\n",
              "<table border=\"1\" class=\"dataframe\">\n",
              "  <thead>\n",
              "    <tr style=\"text-align: right;\">\n",
              "      <th></th>\n",
              "      <th>Model</th>\n",
              "      <th>Average rewards per move</th>\n",
              "      <th>Average number of penalties per episode</th>\n",
              "      <th>Average number of timesteps per trip</th>\n",
              "    </tr>\n",
              "  </thead>\n",
              "  <tbody>\n",
              "    <tr>\n",
              "      <th>0</th>\n",
              "      <td>Random agent's performance</td>\n",
              "      <td>-3.910234</td>\n",
              "      <td>64.37</td>\n",
              "      <td>198.85</td>\n",
              "    </tr>\n",
              "    <tr>\n",
              "      <th>1</th>\n",
              "      <td>Q-learning agent's performance</td>\n",
              "      <td>0.670644</td>\n",
              "      <td>0.00</td>\n",
              "      <td>12.57</td>\n",
              "    </tr>\n",
              "  </tbody>\n",
              "</table>\n",
              "</div>"
            ],
            "text/plain": [
              "                            Model  ...  Average number of timesteps per trip\n",
              "0      Random agent's performance  ...                                198.85\n",
              "1  Q-learning agent's performance  ...                                 12.57\n",
              "\n",
              "[2 rows x 4 columns]"
            ]
          },
          "metadata": {
            "tags": []
          },
          "execution_count": 74
        }
      ]
    },
    {
      "cell_type": "code",
      "metadata": {
        "id": "sTpTVg9kZO9b",
        "colab_type": "code",
        "colab": {
          "base_uri": "https://localhost:8080/",
          "height": 497
        },
        "outputId": "7d02d50f-6a5b-40b2-ca9d-0947633633bb"
      },
      "source": [
        "plt.figure(figsize=(10,8))\n",
        "\n",
        "sns.barplot(x = 'Model', y = 'Average rewards per move', data = Algorithms)\n",
        "plt.show()"
      ],
      "execution_count": 76,
      "outputs": [
        {
          "output_type": "display_data",
          "data": {
            "image/png": "[encoded data removed]",
            "text/plain": [
              "<Figure size 720x576 with 1 Axes>"
            ]
          },
          "metadata": {
            "tags": [],
            "needs_background": "light"
          }
        }
      ]
    },
    {
      "cell_type": "code",
      "metadata": {
        "id": "-yFEcnQ7f5qt",
        "colab_type": "code",
        "colab": {
          "base_uri": "https://localhost:8080/",
          "height": 497
        },
        "outputId": "a2093863-57a4-4396-d3ed-fb90249d7457"
      },
      "source": [
        "plt.figure(figsize=(10,8))\n",
        "\n",
        "sns.barplot(x = 'Model', y = 'Average number of penalties per episode', data = Algorithms)\n",
        "plt.show()"
      ],
      "execution_count": 77,
      "outputs": [
        {
          "output_type": "display_data",
          "data": {
            "image/png": "[encoded data removed]",
            "text/plain": [
              "<Figure size 720x576 with 1 Axes>"
            ]
          },
          "metadata": {
            "tags": [],
            "needs_background": "light"
          }
        }
      ]
    },
    {
      "cell_type": "code",
      "metadata": {
        "id": "Thi0XsWSf5f6",
        "colab_type": "code",
        "colab": {
          "base_uri": "https://localhost:8080/",
          "height": 497
        },
        "outputId": "951af23e-5e20-4e10-f704-5662b1cf31cd"
      },
      "source": [
        "plt.figure(figsize=(10,8))\n",
        "\n",
        "sns.barplot(x = 'Model', y = 'Average number of timesteps per trip', data = Algorithms)\n",
        "plt.show()"
      ],
      "execution_count": 78,
      "outputs": [
        {
          "output_type": "display_data",
          "data": {
            "image/png": "[encoded data removed]",
            "text/plain": [
              "<Figure size 720x576 with 1 Axes>"
            ]
          },
          "metadata": {
            "tags": [],
            "needs_background": "light"
          }
        }
      ]
    },
    {
      "cell_type": "markdown",
      "metadata": {
        "id": "bh-LkUvc8rzN",
        "colab_type": "text"
      },
      "source": [
        "#References\n",
        "\n",
        "\n",
        "*   https://www.learndatasci.com/tutorials/reinforcement-q-learning-scratch-python-openai-gym/\n",
        "*   https://github.com/simoninithomas/Deep_reinforcement_learning_Course/blob/master/Q%20learning/Taxi-v2/Q%20Learning%20with%20OpenAI%20Taxi-v2%20video%20version.ipynb\n",
        "*  https://gym.openai.com/envs/Taxi-v3/\n",
        "*  https://github.com/openai/gym/blob/master/gym/envs/toy_text/taxi.py\n",
        "\n"
      ]
    }
  ]
}
